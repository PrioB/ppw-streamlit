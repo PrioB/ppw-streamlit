{
 "cells": [
  {
   "cell_type": "markdown",
   "id": "14136d7a",
   "metadata": {},
   "source": [
    "# Crawling Website TribunJateng\n",
    "\n",
    "Nama : Prio Budi Laksono\n",
    "\n",
    "NIM  : 210411100177"
   ]
  },
  {
   "cell_type": "markdown",
   "id": "ba5fb007",
   "metadata": {},
   "source": [
    "### Pengertian Crawling Data\n",
    "\n",
    "Crawling data adalah proses otomatisasi untuk mengumpulkan data dari situs web oleh mesin pencari. Saat mesin pencari mengunjungi sebuah situs, ia akan menjelajahi semua tautan yang ada pada halaman tersebut dan mengumpulkan informasi dari setiap halaman yang diakses. Proses ini menghasilkan indeks data yang sangat besar, yang kemudian dapat digunakan untuk menampilkan informasi yang relevan berdasarkan kebutuhan pencarian.\n"
   ]
  },
  {
   "cell_type": "code",
   "execution_count": 7,
   "id": "0ffe0154",
   "metadata": {},
   "outputs": [
    {
     "name": "stdout",
     "output_type": "stream",
     "text": [
      "Requirement already satisfied: requests in c:\\users\\pblak\\appdata\\local\\programs\\python\\python312\\lib\\site-packages (2.32.3)\n",
      "Requirement already satisfied: beautifulsoup4 in c:\\users\\pblak\\appdata\\local\\programs\\python\\python312\\lib\\site-packages (4.12.3)\n",
      "Requirement already satisfied: pandas in c:\\users\\pblak\\appdata\\local\\programs\\python\\python312\\lib\\site-packages (2.2.2)\n",
      "Requirement already satisfied: charset-normalizer<4,>=2 in c:\\users\\pblak\\appdata\\local\\programs\\python\\python312\\lib\\site-packages (from requests) (3.3.2)\n",
      "Requirement already satisfied: idna<4,>=2.5 in c:\\users\\pblak\\appdata\\local\\programs\\python\\python312\\lib\\site-packages (from requests) (3.8)\n",
      "Requirement already satisfied: urllib3<3,>=1.21.1 in c:\\users\\pblak\\appdata\\local\\programs\\python\\python312\\lib\\site-packages (from requests) (1.26.19)\n",
      "Requirement already satisfied: certifi>=2017.4.17 in c:\\users\\pblak\\appdata\\local\\programs\\python\\python312\\lib\\site-packages (from requests) (2024.7.4)\n",
      "Requirement already satisfied: soupsieve>1.2 in c:\\users\\pblak\\appdata\\local\\programs\\python\\python312\\lib\\site-packages (from beautifulsoup4) (2.6)\n",
      "Requirement already satisfied: numpy>=1.26.0 in c:\\users\\pblak\\appdata\\local\\programs\\python\\python312\\lib\\site-packages (from pandas) (2.1.1)\n",
      "Requirement already satisfied: python-dateutil>=2.8.2 in c:\\users\\pblak\\appdata\\local\\programs\\python\\python312\\lib\\site-packages (from pandas) (2.9.0.post0)\n",
      "Requirement already satisfied: pytz>=2020.1 in c:\\users\\pblak\\appdata\\local\\programs\\python\\python312\\lib\\site-packages (from pandas) (2024.1)\n",
      "Requirement already satisfied: tzdata>=2022.7 in c:\\users\\pblak\\appdata\\local\\programs\\python\\python312\\lib\\site-packages (from pandas) (2024.1)\n",
      "Requirement already satisfied: six>=1.5 in c:\\users\\pblak\\appdata\\local\\programs\\python\\python312\\lib\\site-packages (from python-dateutil>=2.8.2->pandas) (1.16.0)\n"
     ]
    }
   ],
   "source": [
    "!pip install requests beautifulsoup4 pandas\n",
    "\n",
    "#install library untuk mengambil konten di dalam website"
   ]
  },
  {
   "cell_type": "markdown",
   "id": "366ea652",
   "metadata": {},
   "source": [
    "### 1. Melakukan import library yang dibutuhkan"
   ]
  },
  {
   "cell_type": "code",
   "execution_count": 8,
   "id": "77da8a6b",
   "metadata": {},
   "outputs": [],
   "source": [
    "import requests\n",
    "from bs4 import BeautifulSoup\n",
    "import pandas as pd\n"
   ]
  },
  {
   "cell_type": "markdown",
   "id": "5b1cf078",
   "metadata": {},
   "source": [
    "requests: Digunakan untuk melakukan HTTP request ke sebuah URL dan mendapatkan konten halaman web.\n",
    "\n",
    "BeautifulSoup: Digunakan untuk mem-parsing HTML dan mengekstrak data dari halaman web.\n",
    "\n",
    "pandas: Digunakan untuk mengolah data dan menyimpan hasil ekstraksi ke dalam bentuk DataFrame."
   ]
  },
  {
   "cell_type": "markdown",
   "id": "398ac811",
   "metadata": {},
   "source": [
    "### 2. Mengambil Halaman Website dan Memeriksa status request"
   ]
  },
  {
   "cell_type": "code",
   "execution_count": 9,
   "id": "2139de0d",
   "metadata": {},
   "outputs": [
    {
     "name": "stdout",
     "output_type": "stream",
     "text": [
      "Request berhasil!\n"
     ]
    }
   ],
   "source": [
    "url = 'https://jateng.tribunnews.com/'\n",
    "response = requests.get(url)\n",
    "\n",
    "# Periksa apakah request berhasil\n",
    "if response.status_code == 200:\n",
    "    print(\"Request berhasil!\")\n",
    "    page_content = response.content\n",
    "else:\n",
    "    print(f\"Gagal mengambil halaman, status code: {response.status_code}\")\n",
    "\n",
    "# Parsing HTML\n",
    "soup = BeautifulSoup(page_content, 'html.parser')\n"
   ]
  },
  {
   "cell_type": "markdown",
   "id": "1a3f2786",
   "metadata": {},
   "source": [
    "### 3. Menemukan dan Mengekstrak 10 Berita"
   ]
  },
  {
   "cell_type": "code",
   "execution_count": 10,
   "id": "29acd3ef",
   "metadata": {},
   "outputs": [
    {
     "data": {
      "text/plain": [
       "['https://jateng.tribunnews.com/2024/09/05/golkar-pastikan-dukung-mirna-urike-di-pilkada-kendal-tak-masalah-dico-jadi-kader-pkb',\n",
       " 'https://jateng.tribunnews.com/2024/09/05/siswa-sma-diduga-bullying-anak-tk-dan-sd-di-semarang-minta-maaf-juga-bikin-surat-pernyataan',\n",
       " 'https://jateng.tribunnews.com/2024/09/05/alasan-ibu-aulia-resmi-laporkan-senior-anaknya-ke-polda-jateng-ada-yang-terkait-pemerasan',\n",
       " 'https://jateng.tribunnews.com/2024/09/04/prediksi-susunan-pemain-timnas-indonesia-vs-arab-saudi-garuda-dapat-tambahan-tenaga-baru',\n",
       " 'https://jateng.tribunnews.com/2024/09/04/terungkap-ayu-siswi-smp-penjual-balon-ini-tewas-karena-dibunuh-dan-diperkosa-pelaku-4-remaja',\n",
       " 'https://jateng.tribunnews.com/2024/09/04/catatan-head-to-head-timnas-indonesia-vs-arab-saudi-garuda-belum-pernah-mengalahkan-elang-hijau',\n",
       " 'https://jateng.tribunnews.com/2024/09/04/nonton-tv-online-ini-link-live-streaming-timnas-indonesia-vs-arab-saudi-tayang-di-rcti',\n",
       " 'https://jateng.tribunnews.com/2024/09/03/drama-pilkada-kendal-2024-berlanjut-dico-dan-benny-saling-klaim-terima-rekomendasi-resmi-dpp-pkb?utm_source=topstories',\n",
       " 'https://jateng.tribunnews.com/2024/09/03/inilah-sosok-muh-rizqi-iskandar-anggota-dprd-jateng-2024-2029-termuda-kuliah-di-umy-semester-5?utm_source=topstories',\n",
       " 'https://jateng.tribunnews.com/2024/09/03/23-kabupaten-kota-di-jateng-masuk-kategori-tinggi-hasil-analisis-kerawanan-konflik-pilkada-2024?utm_source=topstories']"
      ]
     },
     "execution_count": 10,
     "metadata": {},
     "output_type": "execute_result"
    }
   ],
   "source": [
    "# Cari semua <h3> yang mengandung <a>\n",
    "articles = soup.find_all('h3')\n",
    "\n",
    "# Ekstrak URL dari <a> di dalam <h3> dan simpan dalam list\n",
    "urls = [article.find('a')['href'] for article in articles if article.find('a')][:10]\n",
    "\n",
    "# Tampilkan 10 URL berita yang ditemukan\n",
    "urls\n"
   ]
  },
  {
   "cell_type": "markdown",
   "id": "2745f75a",
   "metadata": {},
   "source": [
    "### 4. Mengambil data dari setiap artikel berita"
   ]
  },
  {
   "cell_type": "code",
   "execution_count": 11,
   "id": "a228f8b3",
   "metadata": {},
   "outputs": [],
   "source": [
    "data_list = []\n",
    "\n",
    "for i, url in enumerate(urls, start=1):\n",
    "    response = requests.get(url)\n",
    "    soup = BeautifulSoup(response.content, 'html.parser')\n",
    "    \n",
    "    # Mendapatkan judul\n",
    "    judul = soup.find('h1').text.strip()\n",
    "\n",
    "    # Mendapatkan tanggal\n",
    "    tanggal = soup.find('time').text.strip()\n",
    "\n",
    "    # Mendapatkan isi artikel\n",
    "    isi = ' '.join(p.text.strip() for p in soup.find_all('p'))\n",
    "    \n",
    "    # Mencari breadcrumb\n",
    "    breadcrumb = soup.find('ul', {'class': 'breadcrumb'})\n",
    "\n",
    "    # Mengambil kategori terakhir dari breadcrumb\n",
    "    kategori = breadcrumb.find_all('li')[-1].find('span').text.strip()\n",
    "    \n",
    "    # Simpan data ke dalam list\n",
    "    data_list.append({\n",
    "        'No': i,\n",
    "        'Judul Berita': judul,\n",
    "        'Tanggal Berita': tanggal,\n",
    "        'Kategori Berita': kategori,\n",
    "        'Isi Berita': isi,\n",
    "        'URL': url\n",
    "    })\n",
    "\n"
   ]
  },
  {
   "cell_type": "markdown",
   "id": "13d3fc7c",
   "metadata": {},
   "source": [
    "data_list: List untuk menyimpan data dari setiap artikel berita.\n",
    "\n",
    "for i, url in enumerate(urls, start=1): Looping untuk setiap URL yang ditemukan, di mana i adalah index mulai dari 1.\n",
    "\n",
    "requests.get(url): Mengambil konten halaman dari URL artikel.\n",
    "\n",
    "judul = soup.find('h1').text.strip(): Menemukan judul berita di dalam elemen h1.\n",
    "    \n",
    "tanggal = soup.find('time').text.strip(): Menemukan tanggal berita di dalam elemen time.\n",
    "    \n",
    "isi = ' '.join(p.text.strip() for p in soup.find_all('p')): Menggabungkan semua paragraf <p> di dalam artikel untuk mendapatkan isi berita.\n",
    "    \n",
    "breadcrumb = soup.find('ul', {'class': 'breadcrumb'}): Mencari elemen breadcrumb untuk menemukan kategori berita.\n",
    "    \n",
    "kategori = breadcrumb.find_all('li')[-1].find('span').text.strip(): Mengambil kategori terakhir dalam breadcrumb.\n",
    "    \n",
    "data_list.append({...}): Menyimpan data yang telah diekstrak ke dalam list data_list."
   ]
  },
  {
   "cell_type": "markdown",
   "id": "a3063d06",
   "metadata": {},
   "source": [
    "### 5. Menampilkan data yang di crowling ke dalam tabel"
   ]
  },
  {
   "cell_type": "code",
   "execution_count": 12,
   "id": "d7309672",
   "metadata": {},
   "outputs": [
    {
     "data": {
      "text/html": [
       "<div>\n",
       "<style scoped>\n",
       "    .dataframe tbody tr th:only-of-type {\n",
       "        vertical-align: middle;\n",
       "    }\n",
       "\n",
       "    .dataframe tbody tr th {\n",
       "        vertical-align: top;\n",
       "    }\n",
       "\n",
       "    .dataframe thead th {\n",
       "        text-align: right;\n",
       "    }\n",
       "</style>\n",
       "<table border=\"1\" class=\"dataframe\">\n",
       "  <thead>\n",
       "    <tr style=\"text-align: right;\">\n",
       "      <th></th>\n",
       "      <th>No</th>\n",
       "      <th>Judul Berita</th>\n",
       "      <th>Tanggal Berita</th>\n",
       "      <th>Kategori Berita</th>\n",
       "      <th>Isi Berita</th>\n",
       "      <th>URL</th>\n",
       "    </tr>\n",
       "  </thead>\n",
       "  <tbody>\n",
       "    <tr>\n",
       "      <th>0</th>\n",
       "      <td>1</td>\n",
       "      <td>Golkar Pastikan Dukung Mirna-Urike di Pilkada ...</td>\n",
       "      <td>Tayang: Kamis, 5 September 2024 00:47 WIB</td>\n",
       "      <td>Mata Lokal Memilih</td>\n",
       "      <td>TRIBUNJATENG.COM - Partai Golkar memastikan ak...</td>\n",
       "      <td>https://jateng.tribunnews.com/2024/09/05/golka...</td>\n",
       "    </tr>\n",
       "    <tr>\n",
       "      <th>1</th>\n",
       "      <td>2</td>\n",
       "      <td>Siswa SMA Diduga Bullying Anak TK dan SD di Se...</td>\n",
       "      <td>Tayang: Kamis, 5 September 2024 00:20 WIB</td>\n",
       "      <td>News</td>\n",
       "      <td>TRIBUNJATENG.COM, SEMARANG- Pihak SMA swasta b...</td>\n",
       "      <td>https://jateng.tribunnews.com/2024/09/05/siswa...</td>\n",
       "    </tr>\n",
       "    <tr>\n",
       "      <th>2</th>\n",
       "      <td>3</td>\n",
       "      <td>ALASAN Ibu Aulia Resmi Laporkan Senior Anaknya...</td>\n",
       "      <td>Tayang: Kamis, 5 September 2024 00:10 WIB</td>\n",
       "      <td>News</td>\n",
       "      <td>TRIBUNJATENG.COM, SEMARANG -Nuzmatun Malinah, ...</td>\n",
       "      <td>https://jateng.tribunnews.com/2024/09/05/alasa...</td>\n",
       "    </tr>\n",
       "    <tr>\n",
       "      <th>3</th>\n",
       "      <td>4</td>\n",
       "      <td>Prediksi Susunan Pemain Timnas Indonesia Vs Ar...</td>\n",
       "      <td>Tayang: Rabu, 4 September 2024 23:38 WIB</td>\n",
       "      <td>Lainnya</td>\n",
       "      <td>Prediksi Susunan Pemain Timnas Indonesia Vs Ar...</td>\n",
       "      <td>https://jateng.tribunnews.com/2024/09/04/predi...</td>\n",
       "    </tr>\n",
       "    <tr>\n",
       "      <th>4</th>\n",
       "      <td>5</td>\n",
       "      <td>TERUNGKAP! Ayu Siswi SMP Penjual Balon Ini Tew...</td>\n",
       "      <td>Tayang: Rabu, 4 September 2024 23:35 WIB</td>\n",
       "      <td>Nasional</td>\n",
       "      <td>TRIBUNJATENG.COM, PALEMBANG - Penyebab Ayu And...</td>\n",
       "      <td>https://jateng.tribunnews.com/2024/09/04/terun...</td>\n",
       "    </tr>\n",
       "    <tr>\n",
       "      <th>5</th>\n",
       "      <td>6</td>\n",
       "      <td>Catatan Head to Head Timnas Indonesia Vs Arab ...</td>\n",
       "      <td>Tayang: Rabu, 4 September 2024 23:34 WIB</td>\n",
       "      <td>Lainnya</td>\n",
       "      <td>Catatan Head to Head Timnas Indonesia Vs Arab ...</td>\n",
       "      <td>https://jateng.tribunnews.com/2024/09/04/catat...</td>\n",
       "    </tr>\n",
       "    <tr>\n",
       "      <th>6</th>\n",
       "      <td>7</td>\n",
       "      <td>Nonton TV Online Ini Link Live Streaming Timna...</td>\n",
       "      <td>Tayang: Rabu, 4 September 2024 23:27 WIB</td>\n",
       "      <td>Lainnya</td>\n",
       "      <td>Nonton TV Online Ini Link Live Streaming Timna...</td>\n",
       "      <td>https://jateng.tribunnews.com/2024/09/04/nonto...</td>\n",
       "    </tr>\n",
       "    <tr>\n",
       "      <th>7</th>\n",
       "      <td>8</td>\n",
       "      <td>Drama Pilkada Kendal 2024 Berlanjut, Dico dan ...</td>\n",
       "      <td>Tayang: Selasa, 3 September 2024 19:04 WIB</td>\n",
       "      <td>Pilkada</td>\n",
       "      <td>TRIBUNJATENG.COM, KENDAL - Dua bakal calon pes...</td>\n",
       "      <td>https://jateng.tribunnews.com/2024/09/03/drama...</td>\n",
       "    </tr>\n",
       "    <tr>\n",
       "      <th>8</th>\n",
       "      <td>9</td>\n",
       "      <td>Inilah Sosok Muh Rizqi Iskandar, Anggota DPRD ...</td>\n",
       "      <td>Tayang: Selasa, 3 September 2024 19:23 WIB</td>\n",
       "      <td>Jawa Tengah</td>\n",
       "      <td>TRIBUNJATENG.COM, SEMARANG - Muh Rizqi Iskanda...</td>\n",
       "      <td>https://jateng.tribunnews.com/2024/09/03/inila...</td>\n",
       "    </tr>\n",
       "    <tr>\n",
       "      <th>9</th>\n",
       "      <td>10</td>\n",
       "      <td>23 Kabupaten-Kota di Jateng Masuk Kategori Tin...</td>\n",
       "      <td>Tayang: Selasa, 3 September 2024 21:59 WIB</td>\n",
       "      <td>Pilkada</td>\n",
       "      <td>TRIBUNJATENG.COM, SEMARANG - 23 kabupaten-kota...</td>\n",
       "      <td>https://jateng.tribunnews.com/2024/09/03/23-ka...</td>\n",
       "    </tr>\n",
       "  </tbody>\n",
       "</table>\n",
       "</div>"
      ],
      "text/plain": [
       "   No                                       Judul Berita  \\\n",
       "0   1  Golkar Pastikan Dukung Mirna-Urike di Pilkada ...   \n",
       "1   2  Siswa SMA Diduga Bullying Anak TK dan SD di Se...   \n",
       "2   3  ALASAN Ibu Aulia Resmi Laporkan Senior Anaknya...   \n",
       "3   4  Prediksi Susunan Pemain Timnas Indonesia Vs Ar...   \n",
       "4   5  TERUNGKAP! Ayu Siswi SMP Penjual Balon Ini Tew...   \n",
       "5   6  Catatan Head to Head Timnas Indonesia Vs Arab ...   \n",
       "6   7  Nonton TV Online Ini Link Live Streaming Timna...   \n",
       "7   8  Drama Pilkada Kendal 2024 Berlanjut, Dico dan ...   \n",
       "8   9  Inilah Sosok Muh Rizqi Iskandar, Anggota DPRD ...   \n",
       "9  10  23 Kabupaten-Kota di Jateng Masuk Kategori Tin...   \n",
       "\n",
       "                               Tanggal Berita     Kategori Berita  \\\n",
       "0   Tayang: Kamis, 5 September 2024 00:47 WIB  Mata Lokal Memilih   \n",
       "1   Tayang: Kamis, 5 September 2024 00:20 WIB                News   \n",
       "2   Tayang: Kamis, 5 September 2024 00:10 WIB                News   \n",
       "3    Tayang: Rabu, 4 September 2024 23:38 WIB             Lainnya   \n",
       "4    Tayang: Rabu, 4 September 2024 23:35 WIB            Nasional   \n",
       "5    Tayang: Rabu, 4 September 2024 23:34 WIB             Lainnya   \n",
       "6    Tayang: Rabu, 4 September 2024 23:27 WIB             Lainnya   \n",
       "7  Tayang: Selasa, 3 September 2024 19:04 WIB             Pilkada   \n",
       "8  Tayang: Selasa, 3 September 2024 19:23 WIB         Jawa Tengah   \n",
       "9  Tayang: Selasa, 3 September 2024 21:59 WIB             Pilkada   \n",
       "\n",
       "                                          Isi Berita  \\\n",
       "0  TRIBUNJATENG.COM - Partai Golkar memastikan ak...   \n",
       "1  TRIBUNJATENG.COM, SEMARANG- Pihak SMA swasta b...   \n",
       "2  TRIBUNJATENG.COM, SEMARANG -Nuzmatun Malinah, ...   \n",
       "3  Prediksi Susunan Pemain Timnas Indonesia Vs Ar...   \n",
       "4  TRIBUNJATENG.COM, PALEMBANG - Penyebab Ayu And...   \n",
       "5  Catatan Head to Head Timnas Indonesia Vs Arab ...   \n",
       "6  Nonton TV Online Ini Link Live Streaming Timna...   \n",
       "7  TRIBUNJATENG.COM, KENDAL - Dua bakal calon pes...   \n",
       "8  TRIBUNJATENG.COM, SEMARANG - Muh Rizqi Iskanda...   \n",
       "9  TRIBUNJATENG.COM, SEMARANG - 23 kabupaten-kota...   \n",
       "\n",
       "                                                 URL  \n",
       "0  https://jateng.tribunnews.com/2024/09/05/golka...  \n",
       "1  https://jateng.tribunnews.com/2024/09/05/siswa...  \n",
       "2  https://jateng.tribunnews.com/2024/09/05/alasa...  \n",
       "3  https://jateng.tribunnews.com/2024/09/04/predi...  \n",
       "4  https://jateng.tribunnews.com/2024/09/04/terun...  \n",
       "5  https://jateng.tribunnews.com/2024/09/04/catat...  \n",
       "6  https://jateng.tribunnews.com/2024/09/04/nonto...  \n",
       "7  https://jateng.tribunnews.com/2024/09/03/drama...  \n",
       "8  https://jateng.tribunnews.com/2024/09/03/inila...  \n",
       "9  https://jateng.tribunnews.com/2024/09/03/23-ka...  "
      ]
     },
     "execution_count": 12,
     "metadata": {},
     "output_type": "execute_result"
    }
   ],
   "source": [
    "# Konversi ke DataFrame\n",
    "df = pd.DataFrame(data_list)\n",
    "\n",
    "# Tampilkan tabel\n",
    "df"
   ]
  },
  {
   "cell_type": "code",
   "execution_count": null,
   "id": "cbbccfc3",
   "metadata": {},
   "outputs": [],
   "source": []
  }
 ],
 "metadata": {
  "kernelspec": {
   "display_name": "Python 3 (ipykernel)",
   "language": "python",
   "name": "python3"
  },
  "language_info": {
   "codemirror_mode": {
    "name": "ipython",
    "version": 3
   },
   "file_extension": ".py",
   "mimetype": "text/x-python",
   "name": "python",
   "nbconvert_exporter": "python",
   "pygments_lexer": "ipython3",
   "version": "3.12.5"
  }
 },
 "nbformat": 4,
 "nbformat_minor": 5
}
